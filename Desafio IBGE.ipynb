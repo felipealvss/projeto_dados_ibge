{
 "cells": [
  {
   "cell_type": "markdown",
   "metadata": {},
   "source": [
    "##### Exemplo de dados"
   ]
  },
  {
   "cell_type": "code",
   "execution_count": null,
   "metadata": {},
   "outputs": [],
   "source": [
    "# COD_UF;COD_MUN;COD_ESPECIE;LATITUDE;LONGITUDE;NV_GEO_COORD\n",
    "# 11;1100015;1;-11.929621;-61.999058;1\n",
    "# 11;1100015;7;-11.929365;-61.999312;1\n",
    "# 11;1100015;6;-11.929400;-61.999499;1\n",
    "# 11;1100015;6;-11.929364;-61.999695;1\n",
    "# 11;1100015;1;-11.929381;-61.999262;1\n",
    "# 11;1100015;1;-11.930439;-61.999046;1\n",
    "# 11;1100015;7;-11.930571;-61.999006;1\n",
    "# 11;1100015;1;-11.930311;-61.998982;1\n",
    "# 11;1100015;1;-11.930717;-61.999009;1\n",
    "# 11;1100015;1;-11.930282;-61.999566;1"
   ]
  },
  {
   "cell_type": "markdown",
   "metadata": {},
   "source": [
    "#### AJUSTE DE DADOS"
   ]
  },
  {
   "cell_type": "code",
   "execution_count": 1,
   "metadata": {},
   "outputs": [],
   "source": [
    "import csv\n",
    "import os"
   ]
  },
  {
   "cell_type": "code",
   "execution_count": 80,
   "metadata": {},
   "outputs": [
    {
     "data": {
      "text/plain": [
       "['11.csv', '12.csv', '13.csv', '14.csv', '15.csv']"
      ]
     },
     "execution_count": 80,
     "metadata": {},
     "output_type": "execute_result"
    }
   ],
   "source": [
    "arquivos_csv = [arq for arq in os.listdir('arquivos/') if arq.endswith('.csv')]\n",
    "arquivos_csv"
   ]
  },
  {
   "cell_type": "code",
   "execution_count": 71,
   "metadata": {},
   "outputs": [],
   "source": [
    "dados = []\n",
    "\n",
    "for i in arquivos_csv:\n",
    "    dir_arquivo = os.path.join('arquivos/', i)\n",
    "    with open(dir_arquivo, 'r') as arquivo:\n",
    "        arquivo_csv = csv.reader(arquivo, delimiter=';')\n",
    "        next(arquivo_csv)\n",
    "        data = [linha for linha in arquivo_csv]\n",
    "        dados.extend(data)"
   ]
  },
  {
   "cell_type": "code",
   "execution_count": 72,
   "metadata": {},
   "outputs": [
    {
     "name": "stdout",
     "output_type": "stream",
     "text": [
      "Total de registros: 7206549\n"
     ]
    },
    {
     "data": {
      "text/plain": [
       "[['11', '1100015', '1', '-11.929621', '-61.999058', '1'],\n",
       " ['11', '1100015', '7', '-11.929365', '-61.999312', '1'],\n",
       " ['11', '1100015', '6', '-11.929400', '-61.999499', '1'],\n",
       " ['11', '1100015', '6', '-11.929364', '-61.999695', '1'],\n",
       " ['11', '1100015', '1', '-11.929381', '-61.999262', '1']]"
      ]
     },
     "execution_count": 72,
     "metadata": {},
     "output_type": "execute_result"
    }
   ],
   "source": [
    "print(f'Total de registros: {len(dados)}')\n",
    "dados[:5]"
   ]
  },
  {
   "cell_type": "code",
   "execution_count": 78,
   "metadata": {},
   "outputs": [
    {
     "name": "stdout",
     "output_type": "stream",
     "text": [
      "11 1100015 1 -11.929621 -61.999058 1\n"
     ]
    }
   ],
   "source": [
    "print(f'{dados[0][0].strip()} {dados[0][1].strip()} {dados[0][2].strip()} {dados[0][3].strip()} {dados[0][4].strip()} {dados[0][5].strip()}')"
   ]
  },
  {
   "cell_type": "code",
   "execution_count": 79,
   "metadata": {},
   "outputs": [],
   "source": [
    "dados_aj = []\n",
    "\n",
    "for i in range(len(dados)):\n",
    "    aux = []\n",
    "    var1 =   int(dados[i][0].strip())\n",
    "    aux.append(var1)\n",
    "    var2 =   int(dados[i][1].strip())\n",
    "    aux.append(var2)\n",
    "    var3 =   int(dados[i][2].strip())\n",
    "    aux.append(var3)\n",
    "    var4 = float(dados[i][3].strip())\n",
    "    aux.append(var4)\n",
    "    var5 = float(dados[i][4].strip())\n",
    "    aux.append(var5)\n",
    "    var6 =   int(dados[i][5].strip())\n",
    "    aux.append(var6)\n",
    "\n",
    "    dados_aj.append(aux)"
   ]
  },
  {
   "cell_type": "markdown",
   "metadata": {},
   "source": [
    "#### PARTE DB POSTGRESQL"
   ]
  },
  {
   "cell_type": "code",
   "execution_count": 61,
   "metadata": {},
   "outputs": [],
   "source": [
    "from sqlalchemy import create_engine\n",
    "from sqlalchemy.engine import URL\n",
    "\n",
    "url = URL.create(\n",
    "    drivername=\"postgresql\",\n",
    "    username=\"postgres\",\n",
    "    host=\"localhost\",\n",
    "    database=\"postgres\",\n",
    "    password=\"123\"\n",
    ")\n",
    "\n",
    "engine = create_engine(url)"
   ]
  },
  {
   "cell_type": "code",
   "execution_count": 62,
   "metadata": {},
   "outputs": [],
   "source": [
    "connection = engine.connect()"
   ]
  },
  {
   "cell_type": "code",
   "execution_count": 63,
   "metadata": {},
   "outputs": [],
   "source": [
    "from sqlalchemy import Column, Integer, Float\n",
    "from sqlalchemy.orm import declarative_base"
   ]
  },
  {
   "cell_type": "code",
   "execution_count": 64,
   "metadata": {},
   "outputs": [],
   "source": [
    "Base = declarative_base()"
   ]
  },
  {
   "cell_type": "code",
   "execution_count": 65,
   "metadata": {},
   "outputs": [],
   "source": [
    "class Localidade(Base):\n",
    "    __tablename__ = 'ibge'\n",
    "\n",
    "    id = Column(Integer(), primary_key=True, autoincrement=True)\n",
    "    cod_uf = Column(Integer(), nullable=True)\n",
    "    cod_mun = Column(Integer(), nullable=True)\n",
    "    cod_especie = Column(Integer(), nullable=True)\n",
    "    latitude = Column(Float(), nullable=True)\n",
    "    longitude = Column(Float(), nullable=True)\n",
    "    nv_geo_coord = Column(Integer(), nullable=True)\n"
   ]
  },
  {
   "cell_type": "code",
   "execution_count": 84,
   "metadata": {},
   "outputs": [
    {
     "data": {
      "text/plain": [
       "Table('ibge', MetaData(), Column('id', Integer(), table=<ibge>, primary_key=True, nullable=False), Column('cod_uf', Integer(), table=<ibge>), Column('cod_mun', Integer(), table=<ibge>), Column('cod_especie', Integer(), table=<ibge>), Column('latitude', Float(), table=<ibge>), Column('longitude', Float(), table=<ibge>), Column('nv_geo_coord', Integer(), table=<ibge>), schema=None)"
      ]
     },
     "execution_count": 84,
     "metadata": {},
     "output_type": "execute_result"
    }
   ],
   "source": [
    "Localidade.__table__"
   ]
  },
  {
   "cell_type": "code",
   "execution_count": 101,
   "metadata": {},
   "outputs": [],
   "source": [
    "Base.metadata.create_all(engine)"
   ]
  },
  {
   "cell_type": "markdown",
   "metadata": {},
   "source": [
    "#### INSERT DE DADOS NO POSTGRESQL"
   ]
  },
  {
   "cell_type": "code",
   "execution_count": 67,
   "metadata": {},
   "outputs": [],
   "source": [
    "from sqlalchemy.orm import sessionmaker\n",
    "\n",
    "Session = sessionmaker(bind=engine)\n",
    "session = Session()"
   ]
  },
  {
   "cell_type": "code",
   "execution_count": 68,
   "metadata": {},
   "outputs": [],
   "source": [
    "from sqlalchemy import insert"
   ]
  },
  {
   "cell_type": "code",
   "execution_count": 69,
   "metadata": {},
   "outputs": [],
   "source": [
    "for i in range(len(dados_aj)):\n",
    "    local1 = Localidade(cod_uf=dados_aj[i][0], cod_mun=dados_aj[i][1], cod_especie=dados_aj[i][2], latitude=dados_aj[i][3], longitude=dados_aj[i][4], nv_geo_coord=dados_aj[i][5])\n",
    "    session.add(local1)\n",
    "    session.commit()"
   ]
  },
  {
   "cell_type": "code",
   "execution_count": 88,
   "metadata": {},
   "outputs": [
    {
     "name": "stdout",
     "output_type": "stream",
     "text": [
      "Total de registros registrados no DB: 7206549\n"
     ]
    }
   ],
   "source": [
    "quantidade = session.query(Localidade).count()\n",
    "print(f\"Total de registros registrados no DB: {quantidade}\")"
   ]
  }
 ],
 "metadata": {
  "kernelspec": {
   "display_name": "base",
   "language": "python",
   "name": "python3"
  },
  "language_info": {
   "codemirror_mode": {
    "name": "ipython",
    "version": 3
   },
   "file_extension": ".py",
   "mimetype": "text/x-python",
   "name": "python",
   "nbconvert_exporter": "python",
   "pygments_lexer": "ipython3",
   "version": "3.12.2"
  }
 },
 "nbformat": 4,
 "nbformat_minor": 2
}
