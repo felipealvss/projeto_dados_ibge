{
 "cells": [
  {
   "cell_type": "markdown",
   "metadata": {},
   "source": [
    "##### Exemplo de dados"
   ]
  },
  {
   "cell_type": "code",
   "execution_count": null,
   "metadata": {},
   "outputs": [],
   "source": [
    "# COD_UF;COD_MUN;COD_ESPECIE;LATITUDE;LONGITUDE;NV_GEO_COORD\n",
    "# 11;1100015;1;-11.929621;-61.999058;1\n",
    "# 11;1100015;7;-11.929365;-61.999312;1\n",
    "# 11;1100015;6;-11.929400;-61.999499;1\n",
    "# 11;1100015;6;-11.929364;-61.999695;1\n",
    "# 11;1100015;1;-11.929381;-61.999262;1\n",
    "# 11;1100015;1;-11.930439;-61.999046;1\n",
    "# 11;1100015;7;-11.930571;-61.999006;1\n",
    "# 11;1100015;1;-11.930311;-61.998982;1\n",
    "# 11;1100015;1;-11.930717;-61.999009;1\n",
    "# 11;1100015;1;-11.930282;-61.999566;1"
   ]
  },
  {
   "cell_type": "markdown",
   "metadata": {},
   "source": [
    "#### AJUSTE DE DADOS"
   ]
  },
  {
   "cell_type": "code",
   "execution_count": 1,
   "metadata": {},
   "outputs": [],
   "source": [
    "import csv\n",
    "import os"
   ]
  },
  {
   "cell_type": "code",
   "execution_count": 4,
   "metadata": {},
   "outputs": [],
   "source": [
    "arquivos_csv = [arq for arq in os.listdir('arquivos/carga_python/') if arq.endswith('.csv')]"
   ]
  },
  {
   "cell_type": "code",
   "execution_count": 5,
   "metadata": {},
   "outputs": [],
   "source": [
    "dados = []\n",
    "\n",
    "for i in arquivos_csv:\n",
    "    dir_arquivo = os.path.join('arquivos/carga_python', i)\n",
    "    with open(dir_arquivo, 'r') as arquivo:\n",
    "        arquivo_csv = csv.reader(arquivo, delimiter=';')\n",
    "        next(arquivo_csv)\n",
    "        data = [linha for linha in arquivo_csv]\n",
    "        dados.extend(data)"
   ]
  },
  {
   "cell_type": "code",
   "execution_count": 7,
   "metadata": {},
   "outputs": [
    {
     "name": "stdout",
     "output_type": "stream",
     "text": [
      "41 4106803 1 -26.019385 -51.348250 1\n"
     ]
    }
   ],
   "source": [
    "print(f'{dados[0][0].strip()} {dados[0][1].strip()} {dados[0][2].strip()} {dados[0][3].strip()} {dados[0][4].strip()} {dados[0][5].strip()}')"
   ]
  },
  {
   "cell_type": "code",
   "execution_count": 8,
   "metadata": {},
   "outputs": [],
   "source": [
    "dados_insert = []\n",
    "\n",
    "for i in dados:\n",
    "    dados_insert.append({'cod_uf': i[0], 'cod_mun' : i[1], 'cod_especie' : i[2], 'latitude' : i[3], 'longitude' : i[4], 'nv_geo_coord' : i[5]})"
   ]
  },
  {
   "cell_type": "code",
   "execution_count": 36,
   "metadata": {},
   "outputs": [],
   "source": [
    "del dados"
   ]
  },
  {
   "cell_type": "markdown",
   "metadata": {},
   "source": [
    "#### PARTE DB POSTGRESQL"
   ]
  },
  {
   "cell_type": "code",
   "execution_count": 1,
   "metadata": {},
   "outputs": [],
   "source": [
    "from sqlalchemy import create_engine\n",
    "from sqlalchemy.engine import URL\n",
    "\n",
    "url = URL.create(\n",
    "    drivername=\"postgresql\",\n",
    "    username=\"postgres\",\n",
    "    host=\"localhost\",\n",
    "    database=\"postgres\",\n",
    "    password=\"123\"\n",
    ")\n",
    "\n",
    "engine = create_engine(url)"
   ]
  },
  {
   "cell_type": "code",
   "execution_count": 2,
   "metadata": {},
   "outputs": [],
   "source": [
    "connection = engine.connect()"
   ]
  },
  {
   "cell_type": "code",
   "execution_count": 3,
   "metadata": {},
   "outputs": [],
   "source": [
    "from sqlalchemy import Column, Integer, Float\n",
    "from sqlalchemy.orm import declarative_base\n",
    "from sqlalchemy.orm import sessionmaker"
   ]
  },
  {
   "cell_type": "code",
   "execution_count": 4,
   "metadata": {},
   "outputs": [],
   "source": [
    "Base = declarative_base()"
   ]
  },
  {
   "cell_type": "code",
   "execution_count": 5,
   "metadata": {},
   "outputs": [],
   "source": [
    "class Localidade(Base):\n",
    "    __tablename__ = 'ibge'\n",
    "\n",
    "    id = Column(Integer(), primary_key=True, autoincrement=True)\n",
    "    cod_uf = Column(Integer(), nullable=True)\n",
    "    cod_mun = Column(Integer(), nullable=True)\n",
    "    cod_especie = Column(Integer(), nullable=True)\n",
    "    latitude = Column(Float(), nullable=True)\n",
    "    longitude = Column(Float(), nullable=True)\n",
    "    nv_geo_coord = Column(Integer(), nullable=True)\n"
   ]
  },
  {
   "cell_type": "code",
   "execution_count": 6,
   "metadata": {},
   "outputs": [
    {
     "data": {
      "text/plain": [
       "Table('ibge', MetaData(), Column('id', Integer(), table=<ibge>, primary_key=True, nullable=False), Column('cod_uf', Integer(), table=<ibge>), Column('cod_mun', Integer(), table=<ibge>), Column('cod_especie', Integer(), table=<ibge>), Column('latitude', Float(), table=<ibge>), Column('longitude', Float(), table=<ibge>), Column('nv_geo_coord', Integer(), table=<ibge>), schema=None)"
      ]
     },
     "execution_count": 6,
     "metadata": {},
     "output_type": "execute_result"
    }
   ],
   "source": [
    "Localidade.__table__"
   ]
  },
  {
   "cell_type": "code",
   "execution_count": 27,
   "metadata": {},
   "outputs": [],
   "source": [
    "Base.metadata.create_all(engine)"
   ]
  },
  {
   "cell_type": "markdown",
   "metadata": {},
   "source": [
    "#### INSERT DE DADOS NO POSTGRESQL"
   ]
  },
  {
   "cell_type": "code",
   "execution_count": null,
   "metadata": {},
   "outputs": [],
   "source": [
    "import gc\n",
    "\n",
    "gc.collect()"
   ]
  },
  {
   "cell_type": "code",
   "execution_count": 7,
   "metadata": {},
   "outputs": [],
   "source": [
    "Session = sessionmaker(bind=engine)\n",
    "session = Session()"
   ]
  },
  {
   "cell_type": "code",
   "execution_count": 20,
   "metadata": {},
   "outputs": [],
   "source": [
    "tamanho_lote = 10000\n",
    "\n",
    "lotes = [dados_insert[i:i + tamanho_lote] for i in range(0, len(dados_insert), tamanho_lote)]"
   ]
  },
  {
   "cell_type": "code",
   "execution_count": 9,
   "metadata": {},
   "outputs": [],
   "source": [
    "import time\n",
    "from sqlalchemy import func"
   ]
  },
  {
   "cell_type": "code",
   "execution_count": 22,
   "metadata": {},
   "outputs": [],
   "source": [
    "tic = time.perf_counter()\n",
    "\n",
    "for l in lotes:\n",
    "    session.bulk_insert_mappings(Localidade, l)\n",
    "    session.commit()\n",
    "\n",
    "toc = time.perf_counter()\n",
    "tempo = (toc - tic)/60"
   ]
  },
  {
   "cell_type": "code",
   "execution_count": 10,
   "metadata": {},
   "outputs": [
    {
     "name": "stdout",
     "output_type": "stream",
     "text": [
      "----------------------------------------------------------------\n",
      "-- Total de dados registrados no DB: 111102875\n",
      "----------------------------------------------------------------\n"
     ]
    }
   ],
   "source": [
    "print('----------------------------------------------------------------')\n",
    "quantidade = session.query(func.count()).select_from(Localidade).scalar()\n",
    "print(f'-- Total de dados registrados no DB: {quantidade}')\n",
    "print('----------------------------------------------------------------')"
   ]
  },
  {
   "cell_type": "code",
   "execution_count": 11,
   "metadata": {},
   "outputs": [],
   "source": [
    "session.close()"
   ]
  }
 ],
 "metadata": {
  "kernelspec": {
   "display_name": "base",
   "language": "python",
   "name": "python3"
  },
  "language_info": {
   "codemirror_mode": {
    "name": "ipython",
    "version": 3
   },
   "file_extension": ".py",
   "mimetype": "text/x-python",
   "name": "python",
   "nbconvert_exporter": "python",
   "pygments_lexer": "ipython3",
   "version": "3.12.2"
  }
 },
 "nbformat": 4,
 "nbformat_minor": 2
}
